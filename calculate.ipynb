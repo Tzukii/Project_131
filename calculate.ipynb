{
 "cells": [
  {
   "cell_type": "code",
   "execution_count": 9,
   "metadata": {},
   "outputs": [
    {
     "name": "stdout",
     "output_type": "stream",
     "text": [
      "['name', 'light_years_from_earth', 'planet_mass', 'stellar_magnitude', 'discovery_date', 'hyperlink', 'planet_type', 'temp_planet_date', 'temp_planet_mass', 'planet_radius', 'orbital_radius', 'orbital_period', 'eccentricity', 'pl_hostname', 'pl_letter', 'pl_name', 'pl_discmethod', 'pl_controvflag', 'pl_pnum', 'pl_orbper', 'pl_orbpererr1', 'pl_orbpererr2', 'pl_orbperlim', 'pl_orbsmax', 'pl_orbsmaxerr1', 'pl_orbsmaxerr2', 'pl_orbsmaxlim', 'pl_orbeccen', 'pl_orbeccenerr1', 'pl_orbeccenerr2', 'pl_orbeccenlim', 'pl_orbincl', 'pl_orbinclerr1', 'pl_orbinclerr2', 'pl_orbincllim', 'pl_bmassj', 'pl_bmassjerr1', 'pl_bmassjerr2', 'pl_bmassjlim', 'pl_bmassprov', 'pl_radj', 'pl_radjerr1', 'pl_radjerr2', 'pl_radjlim', 'pl_dens', 'pl_denserr1', 'pl_denserr2', 'pl_denslim', 'pl_ttvflag', 'pl_kepflag', 'pl_k2flag', 'pl_nnotes', 'ra_str', 'ra', 'dec_str', 'dec', 'st_dist', 'st_disterr1', 'st_disterr2', 'st_distlim', 'gaia_dist', 'gaia_disterr1', 'gaia_disterr2', 'gaia_distlim', 'st_optmag', 'st_optmagerr', 'st_optmaglim', 'st_optband', 'gaia_gmag', 'gaia_gmagerr', 'gaia_gmaglim', 'st_teff', 'st_tefferr1', 'st_tefferr2', 'st_tefflim', 'st_mass', 'st_masserr1', 'st_masserr2', 'st_masslim', 'st_rad', 'st_raderr1', 'st_raderr2', 'st_radlim', 'rowupdate', 'pl_facility']\n",
      "['11 Comae Berenices b', '305', '19.4 Jupiters', '4.74', '2007', 'https://exoplanets.nasa.gov/exoplanet-catalog/6988/11-comae-berenices-b/', 'Gas Giant', '2007', '19.4 Jupiters', '1.08 x Jupiter', '1.29 AU', '326 days', '0.23', '11 Com', 'b', '11 com b', 'Radial Velocity', '0', '1', '326.03000000', '0.32000000', '-0.32000000', '0', '1.290000', '0.050000', '-0.050000', '0', '0.231000', '0.005000', '-0.005000', '0', '', '', '', '', '19.40000', '1.50000', '-1.50000', '0', 'Msini', '', '', '', '', '', '', '', '', '0', '0', '0', '0', '12h20m43.03s', '185.179276', '+17d47m34.3s', '17.792868', '93.37', '1.92', '-1.92', '0', '93.37', '1.92', '-1.92', '0', '4.740', '', '0', 'V (Johnson)', '4.372', '', '0', '4742.00', '100.00', '-100.00', '0', '2.70', '0.30', '-0.30', '0', '19.00', '2.00', '-2.00', '0', '2014-05-14', 'Xinglong Station']\n"
     ]
    }
   ],
   "source": [
    "import csv\n",
    "\n",
    "rows = []\n",
    "\n",
    "with open(\"main.csv\", \"r\") as f:\n",
    "    csvreader = csv.reader(f)\n",
    "    for row in csvreader:\n",
    "        rows.append(row)\n",
    "\n",
    "headers = rows[0]\n",
    "planet_data_rows = rows[1:]\n",
    "print(headers)\n",
    "print(planet_data_rows[0])\n"
   ]
  },
  {
   "cell_type": "code",
   "execution_count": 10,
   "metadata": {},
   "outputs": [
    {
     "name": "stdout",
     "output_type": "stream",
     "text": [
      "Solar system 4.2 days has maximum planets 45 out of all the solar systems we have discovered so far!\n"
     ]
    }
   ],
   "source": [
    "headers[0] = \"row_num\"\n",
    "\n",
    "solar_system_planet_count = {}\n",
    "for planet_data in planet_data_rows:\n",
    "    if solar_system_planet_count.get(planet_data[11]):\n",
    "        solar_system_planet_count[planet_data[11]] += 1\n",
    "    else:\n",
    "        solar_system_planet_count[planet_data[11]] = 1\n",
    "\n",
    "max_solar_system = max(solar_system_planet_count,\n",
    "                       key=solar_system_planet_count.get)\n",
    "print(\"Solar system {} has maximum planets {} out of all the solar systems we have discovered so far!\".format(\n",
    "    max_solar_system, solar_system_planet_count[max_solar_system]))\n"
   ]
  },
  {
   "cell_type": "code",
   "execution_count": 11,
   "metadata": {},
   "outputs": [
    {
     "ename": "ValueError",
     "evalue": "could not convert string to float: ''",
     "output_type": "error",
     "traceback": [
      "\u001b[1;31m---------------------------------------------------------------------------\u001b[0m",
      "\u001b[1;31mValueError\u001b[0m                                Traceback (most recent call last)",
      "\u001b[1;32m~\\AppData\\Local\\Temp/ipykernel_44796/2319286750.py\u001b[0m in \u001b[0;36m<module>\u001b[1;34m\u001b[0m\n\u001b[0;32m      8\u001b[0m \u001b[0mplanet_gravity\u001b[0m \u001b[1;33m=\u001b[0m \u001b[1;33m[\u001b[0m\u001b[1;33m]\u001b[0m\u001b[1;33m\u001b[0m\u001b[1;33m\u001b[0m\u001b[0m\n\u001b[0;32m      9\u001b[0m \u001b[1;32mfor\u001b[0m \u001b[0mindex\u001b[0m\u001b[1;33m,\u001b[0m \u001b[0mname\u001b[0m \u001b[1;32min\u001b[0m \u001b[0menumerate\u001b[0m\u001b[1;33m(\u001b[0m\u001b[0mplanet_names\u001b[0m\u001b[1;33m)\u001b[0m\u001b[1;33m:\u001b[0m\u001b[1;33m\u001b[0m\u001b[1;33m\u001b[0m\u001b[0m\n\u001b[1;32m---> 10\u001b[1;33m   \u001b[0mgravity\u001b[0m \u001b[1;33m=\u001b[0m \u001b[1;33m(\u001b[0m\u001b[0mfloat\u001b[0m\u001b[1;33m(\u001b[0m\u001b[0mplanet_masses\u001b[0m\u001b[1;33m[\u001b[0m\u001b[0mindex\u001b[0m\u001b[1;33m]\u001b[0m\u001b[1;33m)\u001b[0m\u001b[1;33m*\u001b[0m\u001b[1;36m5.972e+24\u001b[0m\u001b[1;33m)\u001b[0m \u001b[1;33m/\u001b[0m \u001b[1;33m(\u001b[0m\u001b[0mfloat\u001b[0m\u001b[1;33m(\u001b[0m\u001b[0mplanet_radiuses\u001b[0m\u001b[1;33m[\u001b[0m\u001b[0mindex\u001b[0m\u001b[1;33m]\u001b[0m\u001b[1;33m)\u001b[0m\u001b[1;33m*\u001b[0m\u001b[0mfloat\u001b[0m\u001b[1;33m(\u001b[0m\u001b[0mplanet_radiuses\u001b[0m\u001b[1;33m[\u001b[0m\u001b[0mindex\u001b[0m\u001b[1;33m]\u001b[0m\u001b[1;33m)\u001b[0m\u001b[1;33m*\u001b[0m\u001b[1;36m6371000\u001b[0m\u001b[1;33m*\u001b[0m\u001b[1;36m6371000\u001b[0m\u001b[1;33m)\u001b[0m \u001b[1;33m*\u001b[0m \u001b[1;36m6.674e-11\u001b[0m\u001b[1;33m\u001b[0m\u001b[1;33m\u001b[0m\u001b[0m\n\u001b[0m\u001b[0;32m     11\u001b[0m   \u001b[0mplanet_gravity\u001b[0m\u001b[1;33m.\u001b[0m\u001b[0mappend\u001b[0m\u001b[1;33m(\u001b[0m\u001b[0mgravity\u001b[0m\u001b[1;33m)\u001b[0m\u001b[1;33m\u001b[0m\u001b[1;33m\u001b[0m\u001b[0m\n\u001b[0;32m     12\u001b[0m \u001b[1;33m\u001b[0m\u001b[0m\n",
      "\u001b[1;31mValueError\u001b[0m: could not convert string to float: ''"
     ]
    }
   ],
   "source": [
    "planet_masses = []\n",
    "planet_radiuses = [] \n",
    "planet_names = []\n",
    "for planet_data in planet_data_rows:\n",
    "    planet_masses.append(planet_data[3])\n",
    "    planet_radiuses.append(planet_data[7])\n",
    "    planet_names.append(planet_data[1])\n",
    "planet_gravity = []\n",
    "for index, name in enumerate(planet_names):\n",
    "    gravity = (float(planet_masses[index])*5.972e+24) / (float(\n",
    "        planet_radiuses[index])*float(planet_radiuses[index])*6371000*6371000) * 6.674e-11\n",
    "    planet_gravity.append(gravity)\n",
    "\n",
    "fig = px.scatter(x=planet_radiuses, y=planet_masses,\n",
    "                 size=planet_gravity, hover_data=[planet_names])\n",
    "fig.show()\n"
   ]
  }
 ],
 "metadata": {
  "interpreter": {
   "hash": "9f104fc7402082c33c755f418ae4b0b64873c76134c880500d99324ecefb7b79"
  },
  "kernelspec": {
   "display_name": "Python 3.8.6 64-bit",
   "language": "python",
   "name": "python3"
  },
  "language_info": {
   "codemirror_mode": {
    "name": "ipython",
    "version": 3
   },
   "file_extension": ".py",
   "mimetype": "text/x-python",
   "name": "python",
   "nbconvert_exporter": "python",
   "pygments_lexer": "ipython3",
   "version": "3.8.6"
  },
  "orig_nbformat": 4
 },
 "nbformat": 4,
 "nbformat_minor": 2
}
