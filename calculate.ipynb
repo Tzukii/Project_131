{
 "cells": [
  {
   "cell_type": "code",
   "execution_count": 12,
   "metadata": {},
   "outputs": [
    {
     "name": "stdout",
     "output_type": "stream",
     "text": [
      "['', 'Star_name', 'Distance', 'Mass', 'Radius']\n",
      "['0', 'Sun', '0.000015813', '1', '1']\n"
     ]
    }
   ],
   "source": [
    "import csv\n",
    "\n",
    "rows = []\n",
    "\n",
    "with open(\"main.csv\", \"r\") as f:\n",
    "    csvreader = csv.reader(f)\n",
    "    for row in csvreader:\n",
    "        rows.append(row)\n",
    "\n",
    "headers = rows[0]\n",
    "star_data_rows = rows[1:]\n",
    "print(headers)\n",
    "print(star_data_rows[0])\n"
   ]
  },
  {
   "cell_type": "code",
   "execution_count": 13,
   "metadata": {},
   "outputs": [
    {
     "ename": "ValueError",
     "evalue": "could not convert string to float: '1,158'",
     "output_type": "error",
     "traceback": [
      "\u001b[1;31m---------------------------------------------------------------------------\u001b[0m",
      "\u001b[1;31mValueError\u001b[0m                                Traceback (most recent call last)",
      "\u001b[1;32m~\\AppData\\Local\\Temp/ipykernel_16636/2450693930.py\u001b[0m in \u001b[0;36m<module>\u001b[1;34m\u001b[0m\n\u001b[0;32m      8\u001b[0m \u001b[0mplanet_gravity\u001b[0m \u001b[1;33m=\u001b[0m \u001b[1;33m[\u001b[0m\u001b[1;33m]\u001b[0m\u001b[1;33m\u001b[0m\u001b[1;33m\u001b[0m\u001b[0m\n\u001b[0;32m      9\u001b[0m \u001b[1;32mfor\u001b[0m \u001b[0mindex\u001b[0m\u001b[1;33m,\u001b[0m \u001b[0mname\u001b[0m \u001b[1;32min\u001b[0m \u001b[0menumerate\u001b[0m\u001b[1;33m(\u001b[0m\u001b[0mstar_names\u001b[0m\u001b[1;33m)\u001b[0m\u001b[1;33m:\u001b[0m\u001b[1;33m\u001b[0m\u001b[1;33m\u001b[0m\u001b[0m\n\u001b[1;32m---> 10\u001b[1;33m     gravity = (float(star_masses[index])*5.972e+24) / (float(\n\u001b[0m\u001b[0;32m     11\u001b[0m         star_radiuses[index])*float(star_radiuses[index])*6371000*6371000) * 6.674e-11\n\u001b[0;32m     12\u001b[0m     \u001b[0mplanet_gravity\u001b[0m\u001b[1;33m.\u001b[0m\u001b[0mappend\u001b[0m\u001b[1;33m(\u001b[0m\u001b[0mgravity\u001b[0m\u001b[1;33m)\u001b[0m\u001b[1;33m\u001b[0m\u001b[1;33m\u001b[0m\u001b[0m\n",
      "\u001b[1;31mValueError\u001b[0m: could not convert string to float: '1,158'"
     ]
    }
   ],
   "source": [
    "star_masses = []\n",
    "star_radiuses = []\n",
    "star_names = []\n",
    "for star_data in star_data_rows:\n",
    "    star_masses.append(star_data[3])\n",
    "    star_radiuses.append(star_data[4])\n",
    "    star_names.append(star_data[1])\n",
    "planet_gravity = []\n",
    "for index, name in enumerate(star_names):\n",
    "    gravity = (float(star_masses[index])*5.972e+24) / (float(\n",
    "        star_radiuses[index])*float(star_radiuses[index])*6371000*6371000) * 6.674e-11\n",
    "    planet_gravity.append(gravity)\n",
    "\n",
    "fig = px.scatter(x=star_radiuses, y=star_masses,\n",
    "                 size=planet_gravity, hover_data=[star_names])\n",
    "fig.show()\n"
   ]
  }
 ],
 "metadata": {
  "interpreter": {
   "hash": "9f104fc7402082c33c755f418ae4b0b64873c76134c880500d99324ecefb7b79"
  },
  "kernelspec": {
   "display_name": "Python 3.8.6 64-bit",
   "language": "python",
   "name": "python3"
  },
  "language_info": {
   "codemirror_mode": {
    "name": "ipython",
    "version": 3
   },
   "file_extension": ".py",
   "mimetype": "text/x-python",
   "name": "python",
   "nbconvert_exporter": "python",
   "pygments_lexer": "ipython3",
   "version": "3.8.6"
  },
  "orig_nbformat": 4
 },
 "nbformat": 4,
 "nbformat_minor": 2
}
